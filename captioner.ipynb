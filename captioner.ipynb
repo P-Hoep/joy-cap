{
  "nbformat": 4,
  "nbformat_minor": 0,
  "metadata": {
    "colab": {
      "private_outputs": true,
      "provenance": [],
      "gpuType": "T4",
      "authorship_tag": "ABX9TyM9Y8lIfqRJs4h5MmUAdyU9",
      "include_colab_link": true
    },
    "kernelspec": {
      "name": "python3",
      "display_name": "Python 3"
    },
    "language_info": {
      "name": "python"
    },
    "accelerator": "GPU"
  },
  "cells": [
    {
      "cell_type": "markdown",
      "metadata": {
        "id": "view-in-github",
        "colab_type": "text"
      },
      "source": [
        "<a href=\"https://colab.research.google.com/github/P-Hoep/joy-cap/blob/main/captioner.ipynb\" target=\"_parent\"><img src=\"https://colab.research.google.com/assets/colab-badge.svg\" alt=\"Open In Colab\"/></a>"
      ]
    },
    {
      "cell_type": "markdown",
      "source": [
        "1."
      ],
      "metadata": {
        "id": "XV_rS6aEam6s"
      }
    },
    {
      "cell_type": "code",
      "execution_count": null,
      "metadata": {
        "id": "S5rxf8b9Oa0G"
      },
      "outputs": [],
      "source": [
        "from google.colab import files\n",
        "import os\n",
        "from IPython.display import display, HTML\n",
        "from ipywidgets import Button\n",
        "\n",
        "# Create the target directory if it doesn't exist\n",
        "os.makedirs('/content/images', exist_ok=True)\n",
        "\n",
        "def upload_images(b):\n",
        "    uploaded = files.upload()\n",
        "    for filename, content in uploaded.items():\n",
        "        with open(f'/content/images/{filename}', 'wb') as f:\n",
        "            f.write(content)\n",
        "    print(f\"Uploaded {len(uploaded)} images to /content/images/\")\n",
        "\n",
        "# Create and display the upload button\n",
        "upload_button = Button(description=\"Upload Images\")\n",
        "upload_button.on_click(upload_images)\n",
        "display(upload_button)"
      ]
    },
    {
      "cell_type": "markdown",
      "source": [
        "2."
      ],
      "metadata": {
        "id": "aclB17noaqlj"
      }
    },
    {
      "cell_type": "code",
      "source": [
        "!git clone https://github.com/P-Hoep/joy-cap.git\n",
        "!pip install -r /content/joy-cap/requirements.txt\n",
        "!python joy-cap/app.py"
      ],
      "metadata": {
        "id": "YAOJ22XNScsP"
      },
      "execution_count": null,
      "outputs": []
    },
    {
      "cell_type": "markdown",
      "source": [
        "3."
      ],
      "metadata": {
        "id": "UuUwA3bLavnH"
      }
    },
    {
      "cell_type": "code",
      "source": [
        "import os\n",
        "import zipfile\n",
        "from google.colab import files\n",
        "from IPython.display import display\n",
        "from ipywidgets import Button\n",
        "\n",
        "def zip_and_download_images(b):\n",
        "    # Path to the images directory\n",
        "    image_dir = '/content/images'\n",
        "\n",
        "    # Path for the zip file\n",
        "    zip_path = '/content/images.zip'\n",
        "\n",
        "    # Create a ZipFile object\n",
        "    with zipfile.ZipFile(zip_path, 'w') as zipf:\n",
        "        # Iterate over all files in the directory\n",
        "        for root, dirs, files in os.walk(image_dir):\n",
        "            for file in files:\n",
        "                # Create the full file path\n",
        "                file_path = os.path.join(root, file)\n",
        "                # Add the file to the zip\n",
        "                zipf.write(file_path, os.path.relpath(file_path, image_dir))\n",
        "\n",
        "    # Download the zip file\n",
        "    files.download(zip_path)\n",
        "\n",
        "# Create and display the download button\n",
        "download_button = Button(description=\"Download Images\")\n",
        "download_button.on_click(zip_and_download_images)\n",
        "display(download_button)\n",
        "\n",
        "# Display the current contents of the images directory\n",
        "print(\"Current contents of /content/images/:\")\n",
        "print(os.listdir('/content/images'))"
      ],
      "metadata": {
        "id": "uxBIOECgXr_n"
      },
      "execution_count": null,
      "outputs": []
    }
  ]
}